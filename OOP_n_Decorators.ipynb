{
 "cells": [
  {
   "cell_type": "code",
   "execution_count": 6,
   "metadata": {},
   "outputs": [
    {
     "name": "stdout",
     "output_type": "stream",
     "text": [
      "Начало работы\n",
      "Привет, Лена!\n",
      "Окончание работы\n"
     ]
    }
   ],
   "source": [
    "def simple_decorator(func):          # определяем декоратор\n",
    "    def wrapper(*args, **kwargs):\n",
    "        print('Начало работы')\n",
    "        print(func(*args, **kwargs))\n",
    "        print('Окончание работы')\n",
    "    return wrapper\n",
    "\n",
    "@simple_decorator\n",
    "def hi(name):\n",
    "    return f'Привет, {name}!'\n",
    "\n",
    "hi('Лена')"
   ]
  },
  {
   "cell_type": "code",
   "execution_count": 7,
   "metadata": {},
   "outputs": [
    {
     "name": "stdout",
     "output_type": "stream",
     "text": [
      "***************\n",
      "Привет, Лена!\n",
      "***************\n"
     ]
    }
   ],
   "source": [
    "def star_decorator(func):          # определяем декоратор\n",
    "    def wrapper(*args, **kwargs):\n",
    "        print('*'*15)\n",
    "        # func(*args, **kwargs)\n",
    "        print(func(*args, **kwargs))\n",
    "        print('*'*15)\n",
    "    return wrapper\n",
    "\n",
    "@star_decorator\n",
    "def hi(name):\n",
    "    return f'Привет, {name}!'\n",
    "\n",
    "# print(hi('Лена'))\n",
    "hi('Лена')\n"
   ]
  },
  {
   "cell_type": "code",
   "execution_count": 1,
   "metadata": {},
   "outputs": [
    {
     "name": "stdout",
     "output_type": "stream",
     "text": [
      "***************\n",
      "Привет, Лена!\n",
      "***************\n"
     ]
    }
   ],
   "source": [
    "def star_decorator(func):          # определяем декоратор\n",
    "    def wrapper(*args, **kwargs):\n",
    "        result = func(*args, **kwargs)\n",
    "        return '*'*15 + '\\n' + result + '\\n' + '*'*15\n",
    "    return wrapper\n",
    "\n",
    "@star_decorator\n",
    "def hi(name):\n",
    "    return f'Привет, {name}!'\n",
    "\n",
    "print(hi('Лена'))"
   ]
  },
  {
   "cell_type": "markdown",
   "metadata": {},
   "source": [
    "**Декоратор измерения времени работы функции**\n",
    "\n",
    "На основании данного шаблона создадим декоратор, который измеряет и выводит время выполнения декорируемой функции."
   ]
  },
  {
   "cell_type": "code",
   "execution_count": 14,
   "metadata": {},
   "outputs": [],
   "source": [
    "import time\n",
    "from functools import wraps\n",
    "\n",
    "def timeit(func):\n",
    "    @wraps(func)\n",
    "    def wrapper(*args, **kwargs):\n",
    "        start = time.perf_counter() \n",
    "        result = func(*args, **kwargs)\n",
    "        end = time.perf_counter() \n",
    "        print(f'{func.__name__} потребовалось {end - start:.6f} секунд')\n",
    "        return result\n",
    "    return wrapper"
   ]
  },
  {
   "cell_type": "code",
   "execution_count": 15,
   "metadata": {},
   "outputs": [
    {
     "name": "stdout",
     "output_type": "stream",
     "text": [
      "get_webpage потребовалось 0.465993 секунд\n"
     ]
    }
   ],
   "source": [
    "@timeit\n",
    "def get_webpage():\n",
    "    import requests\n",
    "    webpage = requests.get('https://stepik.org')\n",
    "\n",
    "get_webpage()"
   ]
  },
  {
   "cell_type": "code",
   "execution_count": null,
   "metadata": {},
   "outputs": [],
   "source": []
  }
 ],
 "metadata": {
  "kernelspec": {
   "display_name": "Python 3",
   "language": "python",
   "name": "python3"
  },
  "language_info": {
   "codemirror_mode": {
    "name": "ipython",
    "version": 3
   },
   "file_extension": ".py",
   "mimetype": "text/x-python",
   "name": "python",
   "nbconvert_exporter": "python",
   "pygments_lexer": "ipython3",
   "version": "3.12.3"
  }
 },
 "nbformat": 4,
 "nbformat_minor": 2
}
