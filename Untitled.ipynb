{
 "cells": [
  {
   "cell_type": "code",
   "execution_count": 5,
   "id": "88348df3-f179-4572-bc18-35700cfe6c0e",
   "metadata": {},
   "outputs": [
    {
     "name": "stdout",
     "output_type": "stream",
     "text": [
      " 7\n"
     ]
    },
    {
     "name": "stdout",
     "output_type": "stream",
     "text": [
      "Таблица умножения для числа 7:\n",
      "7 * 1 = 7\n",
      "7 * 2 = 14\n",
      "7 * 3 = 21\n",
      "7 * 4 = 28\n",
      "7 * 5 = 35\n",
      "7 * 6 = 42\n",
      "7 * 7 = 49\n",
      "7 * 8 = 56\n",
      "7 * 9 = 63\n",
      "7 * 10 = 70\n"
     ]
    }
   ],
   "source": [
    "n = int(input())\n",
    "print(f'Таблица умножения для числа {n}:')\n",
    "for i in range (1, 11):\n",
    "    print(f'{n} * {i} = {n*i}')"
   ]
  },
  {
   "cell_type": "code",
   "execution_count": 6,
   "id": "6491875f-7f60-4757-8fdb-b18bf2cac2fb",
   "metadata": {},
   "outputs": [
    {
     "name": "stdout",
     "output_type": "stream",
     "text": [
      "5\n"
     ]
    }
   ],
   "source": [
    "www = 'asder'\n",
    "a = len(www)\n",
    "print(a)"
   ]
  },
  {
   "cell_type": "code",
   "execution_count": 6,
   "id": "71a25063-4d6b-4d09-8fc0-5ed9dbe6f9fd",
   "metadata": {},
   "outputs": [
    {
     "name": "stdout",
     "output_type": "stream",
     "text": [
      " ЛинАл, 4, МатАн, 5, АнГем, 3\n"
     ]
    },
    {
     "name": "stdout",
     "output_type": "stream",
     "text": [
      "['ЛинАл', '4', 'МатАн', '5', 'АнГем', '3'] ('ЛинАл', '4', 'МатАн', '5', 'АнГем', '3')\n"
     ]
    }
   ],
   "source": [
    "# put your python code here\n",
    "str = input().split(', ')\n",
    "marks = tuple(str)\n",
    "#print(sum(int(marks[::2]))/len(int(marks[::2])))\n",
    "print(str, marks)"
   ]
  },
  {
   "cell_type": "code",
   "execution_count": 8,
   "id": "739bb5d4-5290-43b1-b520-f79a4f12a382",
   "metadata": {},
   "outputs": [
    {
     "name": "stdout",
     "output_type": "stream",
     "text": [
      " ЛинАл, 4, МатАн, 5, АнГем, 3\n"
     ]
    },
    {
     "name": "stdout",
     "output_type": "stream",
     "text": [
      "4.0\n"
     ]
    }
   ],
   "source": [
    "# put your python code here\n",
    "str_ = input().split(', ')\n",
    "str_marks = list(map(int, str_[1::2]))\n",
    "marks = tuple(str_marks)\n",
    "s = sum(str_marks)/len(str_marks)\n",
    "print(s)\n",
    "#print(mean(marks))\n",
    "#print(sum(int(marks[1::2]))/len(int(marks[1::2])))\n",
    "#print(str_marks)\n",
    "#print(marks[1::2])\n",
    "#for m in marks[1::2]:"
   ]
  },
  {
   "cell_type": "code",
   "execution_count": 20,
   "id": "d93398cb-6628-4cce-9545-fa6aa680098d",
   "metadata": {},
   "outputs": [
    {
     "name": "stdout",
     "output_type": "stream",
     "text": [
      "  1, 2.5, \"hello\", [1, 2, 3], \"world\", 5, {1, 2, 3}, 'good', ('qw', 'qw')\n"
     ]
    },
    {
     "name": "stdout",
     "output_type": "stream",
     "text": [
      "1\n",
      "<class 'int'>\n",
      "2.5\n",
      "<class 'float'>\n",
      "hello\n",
      "<class 'str'>\n",
      "[1, 2, 3]\n",
      "<class 'list'>\n",
      "world\n",
      "<class 'str'>\n",
      "5\n",
      "<class 'int'>\n",
      "{1, 2, 3}\n",
      "<class 'set'>\n",
      "good\n",
      "<class 'str'>\n",
      "('qw', 'qw')\n",
      "<class 'tuple'>\n",
      "{<class 'tuple'>, <class 'float'>, <class 'set'>, <class 'int'>, <class 'list'>, <class 'str'>}\n",
      "6\n"
     ]
    }
   ],
   "source": [
    "types = set()\n",
    "# str_ = input().split(', ')\n",
    "str_ = eval(input())\n",
    "# print(str_)\n",
    "for _ in str_:\n",
    "    print(_)\n",
    "    print(type(_))\n",
    "    types.add(type(_))\n",
    "print(types)\n",
    "print(len(types))"
   ]
  },
  {
   "cell_type": "code",
   "execution_count": 13,
   "id": "b4cc4620-2e64-48df-8f8d-e516de2355f5",
   "metadata": {},
   "outputs": [
    {
     "name": "stdout",
     "output_type": "stream",
     "text": [
      " 1, 2.5, \"hello\", [1, 2, 3], \"world\", 5\n"
     ]
    },
    {
     "name": "stdout",
     "output_type": "stream",
     "text": [
      "4\n"
     ]
    }
   ],
   "source": [
    "types = set()\n",
    "# str_ = input().split(', ')\n",
    "str_ = eval(input())\n",
    "# print(str_)\n",
    "if type(str_) is int:\n",
    "    print(1)\n",
    "else:\n",
    "    for _ in str_:\n",
    "        #print(_)\n",
    "        # print(type(_))\n",
    "        types.add(type(_))\n",
    "    #print(types)\n",
    "    print(len(types))"
   ]
  },
  {
   "cell_type": "code",
   "execution_count": 15,
   "id": "82344154-5142-472a-a1df-59a6998bdd1b",
   "metadata": {},
   "outputs": [
    {
     "name": "stdout",
     "output_type": "stream",
     "text": [
      " 1, 2.5, \"hello\", [1, 2, 3], \"world\", 5\n"
     ]
    },
    {
     "name": "stdout",
     "output_type": "stream",
     "text": [
      "4\n"
     ]
    }
   ],
   "source": [
    "s = input().split(', ')\n",
    "\n",
    "types_set = set()\n",
    "\n",
    "for i in s:\n",
    "    if i.startswith(\"[\"):\n",
    "        types_set.add(\"list\")\n",
    "    elif \".\" in i:\n",
    "        types_set.add(\"float\")\n",
    "    elif i.isdigit():\n",
    "        types_set.add(\"int\")\n",
    "    else:\n",
    "        types_set.add(\"str\")\n",
    "\n",
    "print(len(types_set))"
   ]
  }
 ],
 "metadata": {
  "kernelspec": {
   "display_name": "Python 3 (ipykernel)",
   "language": "python",
   "name": "python3"
  },
  "language_info": {
   "codemirror_mode": {
    "name": "ipython",
    "version": 3
   },
   "file_extension": ".py",
   "mimetype": "text/x-python",
   "name": "python",
   "nbconvert_exporter": "python",
   "pygments_lexer": "ipython3",
   "version": "3.12.3"
  }
 },
 "nbformat": 4,
 "nbformat_minor": 5
}
